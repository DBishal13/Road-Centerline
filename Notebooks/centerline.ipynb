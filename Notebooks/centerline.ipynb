{
 "cells": [
  {
   "cell_type": "code",
   "execution_count": null,
   "metadata": {},
   "outputs": [],
   "source": [
    "import geopandas as gpd\n",
    "import pygeoops\n",
    "from shapely.geometry import Polygon, MultiPolygon\n",
    "import numpy as np"
   ]
  },
  {
   "cell_type": "markdown",
   "metadata": {},
   "source": [
    "## Find the centerline without densifying the polyline/polygons"
   ]
  },
  {
   "cell_type": "code",
   "execution_count": null,
   "metadata": {},
   "outputs": [],
   "source": [
    "# Define the input and output paths\n",
    "input_road_polygon = \"Road.shp\"\n",
    "output_centerline = \"Road_Centerline.shp\"\n",
    "\n",
    "try:\n",
    "    # Load the polygon representing the road contour as a GeoDataFrame\n",
    "    gdf = gpd.read_file(input_road_polygon)\n",
    "    print(\"Polygon data read successfully.\")\n",
    "\n",
    "    # Calculate centerline of the polygons\n",
    "    gdf.geometry = gdf.geometry.apply(pygeoops.centerline)\n",
    "    print(\"Centerline calculated successfully.\")\n",
    "\n",
    "    # Save centerlines in a new shapefile\n",
    "    gdf.to_file(output_centerline)\n",
    "    print(f\"Centerline saved to {output_centerline}\")\n",
    "\n",
    "except Exception as e:\n",
    "    print(f\"An error occurred: {e}\")"
   ]
  },
  {
   "cell_type": "markdown",
   "metadata": {},
   "source": [
    "## Find the centerline by densifying the polyline/polygons"
   ]
  },
  {
   "cell_type": "code",
   "execution_count": null,
   "metadata": {},
   "outputs": [
    {
     "name": "stdout",
     "output_type": "stream",
     "text": [
      "Polygon data read successfully.\n",
      "Polygons densified successfully.\n"
     ]
    }
   ],
   "source": [
    "# Define the input and output paths\n",
    "input_road_polygon = \"Road.shp\"\n",
    "output_centerline = \"Road_Centerline_Densed.shp\"\n",
    "\n",
    "def densify_polygon(polygon, distance):\n",
    "    \"\"\"\n",
    "    Densify the polygon by adding points along its edges.\n",
    "    \"\"\"\n",
    "    if polygon.is_empty:\n",
    "        return polygon\n",
    "\n",
    "    # Get the exterior coordinates of the polygon\n",
    "    exterior_coords = np.array(polygon.exterior.coords)\n",
    "    \n",
    "    # Calculate the number of points to add along each edge\n",
    "    num_points = int(np.ceil(polygon.length / distance))\n",
    "    \n",
    "    # Create a new list of coordinates with additional points\n",
    "    new_coords = []\n",
    "    for i in range(len(exterior_coords) - 1):\n",
    "        start = exterior_coords[i]\n",
    "        end = exterior_coords[i + 1]\n",
    "        new_coords.append(start)\n",
    "        for j in range(1, num_points):\n",
    "            new_coords.append(start + (end - start) * j / num_points)\n",
    "    new_coords.append(exterior_coords[-1])\n",
    "    \n",
    "    # Create a new polygon with the densified coordinates\n",
    "    densified_polygon = Polygon(new_coords)\n",
    "    \n",
    "    return densified_polygon\n",
    "\n",
    "def densify_geometry(geometry, distance):\n",
    "    \"\"\"\n",
    "    Densify the geometry, handling both Polygon and MultiPolygon geometries.\n",
    "    \"\"\"\n",
    "    if isinstance(geometry, Polygon):\n",
    "        return densify_polygon(geometry, distance)\n",
    "    elif isinstance(geometry, MultiPolygon):\n",
    "        return MultiPolygon([densify_polygon(p, distance) for p in geometry.geoms])\n",
    "    else:\n",
    "        return geometry\n",
    "\n",
    "try:\n",
    "    # Load the polygon representing the road contour as a GeoDataFrame\n",
    "    gdf = gpd.read_file(input_road_polygon)\n",
    "    print(\"Polygon data read successfully.\")\n",
    "\n",
    "    # Densify the polygons\n",
    "    gdf.geometry = gdf.geometry.apply(lambda geom: densify_geometry(geom, distance=10.0))\n",
    "    print(\"Polygons densified successfully.\")\n",
    "\n",
    "    # Calculate centerline of the polygons\n",
    "    gdf.geometry = gdf.geometry.apply(pygeoops.centerline)\n",
    "    print(\"Centerline calculated successfully.\")\n",
    "\n",
    "    # Save centerlines in a new shapefile\n",
    "    gdf.to_file(output_centerline)\n",
    "    print(f\"Centerline saved to {output_centerline}\")\n",
    "\n",
    "except Exception as e:\n",
    "    print(f\"An error occurred: {e}\")"
   ]
  }
 ],
 "metadata": {
  "kernelspec": {
   "display_name": "Python 3",
   "language": "python",
   "name": "python3"
  },
  "language_info": {
   "codemirror_mode": {
    "name": "ipython",
    "version": 3
   },
   "file_extension": ".py",
   "mimetype": "text/x-python",
   "name": "python",
   "nbconvert_exporter": "python",
   "pygments_lexer": "ipython3",
   "version": "3.11.8"
  }
 },
 "nbformat": 4,
 "nbformat_minor": 2
}
